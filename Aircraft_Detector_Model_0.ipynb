{
  "nbformat": 4,
  "nbformat_minor": 0,
  "metadata": {
    "colab": {
      "provenance": [],
      "authorship_tag": "ABX9TyMhlRriGXhLcE6KDL/xlgA2",
      "include_colab_link": true
    },
    "kernelspec": {
      "name": "python3",
      "display_name": "Python 3"
    },
    "language_info": {
      "name": "python"
    },
    "widgets": {
      "application/vnd.jupyter.widget-state+json": {
        "55a4e40a952146e4a67f9ba5990e9b62": {
          "model_module": "@jupyter-widgets/controls",
          "model_name": "HBoxModel",
          "model_module_version": "1.5.0",
          "state": {
            "_dom_classes": [],
            "_model_module": "@jupyter-widgets/controls",
            "_model_module_version": "1.5.0",
            "_model_name": "HBoxModel",
            "_view_count": null,
            "_view_module": "@jupyter-widgets/controls",
            "_view_module_version": "1.5.0",
            "_view_name": "HBoxView",
            "box_style": "",
            "children": [
              "IPY_MODEL_04931c2903074bcb92f7939fa583789e",
              "IPY_MODEL_069a9c6d1c434e99b31812a4b9a97170",
              "IPY_MODEL_9c21c216674a4063a5d33fc616f7c89f"
            ],
            "layout": "IPY_MODEL_da493235e590420ab617fff182dfbafa"
          }
        },
        "04931c2903074bcb92f7939fa583789e": {
          "model_module": "@jupyter-widgets/controls",
          "model_name": "HTMLModel",
          "model_module_version": "1.5.0",
          "state": {
            "_dom_classes": [],
            "_model_module": "@jupyter-widgets/controls",
            "_model_module_version": "1.5.0",
            "_model_name": "HTMLModel",
            "_view_count": null,
            "_view_module": "@jupyter-widgets/controls",
            "_view_module_version": "1.5.0",
            "_view_name": "HTMLView",
            "description": "",
            "description_tooltip": null,
            "layout": "IPY_MODEL_4f2cb140a4e84404a39ee2701f28a8ef",
            "placeholder": "​",
            "style": "IPY_MODEL_6840dee84244464888799e9fa8a1c94e",
            "value": "100%"
          }
        },
        "069a9c6d1c434e99b31812a4b9a97170": {
          "model_module": "@jupyter-widgets/controls",
          "model_name": "FloatProgressModel",
          "model_module_version": "1.5.0",
          "state": {
            "_dom_classes": [],
            "_model_module": "@jupyter-widgets/controls",
            "_model_module_version": "1.5.0",
            "_model_name": "FloatProgressModel",
            "_view_count": null,
            "_view_module": "@jupyter-widgets/controls",
            "_view_module_version": "1.5.0",
            "_view_name": "ProgressView",
            "bar_style": "success",
            "description": "",
            "description_tooltip": null,
            "layout": "IPY_MODEL_7e2cfc7230f548e295c69baa8d709b76",
            "max": 100,
            "min": 0,
            "orientation": "horizontal",
            "style": "IPY_MODEL_8de7b441c63a463e9aede34107ef83ad",
            "value": 100
          }
        },
        "9c21c216674a4063a5d33fc616f7c89f": {
          "model_module": "@jupyter-widgets/controls",
          "model_name": "HTMLModel",
          "model_module_version": "1.5.0",
          "state": {
            "_dom_classes": [],
            "_model_module": "@jupyter-widgets/controls",
            "_model_module_version": "1.5.0",
            "_model_name": "HTMLModel",
            "_view_count": null,
            "_view_module": "@jupyter-widgets/controls",
            "_view_module_version": "1.5.0",
            "_view_name": "HTMLView",
            "description": "",
            "description_tooltip": null,
            "layout": "IPY_MODEL_d4813485251c48f7ac3e275df4acb84d",
            "placeholder": "​",
            "style": "IPY_MODEL_d66098a38e5d4a388408d9d2ef8513f5",
            "value": " 100/100 [05:47&lt;00:00,  4.37s/it]"
          }
        },
        "da493235e590420ab617fff182dfbafa": {
          "model_module": "@jupyter-widgets/base",
          "model_name": "LayoutModel",
          "model_module_version": "1.2.0",
          "state": {
            "_model_module": "@jupyter-widgets/base",
            "_model_module_version": "1.2.0",
            "_model_name": "LayoutModel",
            "_view_count": null,
            "_view_module": "@jupyter-widgets/base",
            "_view_module_version": "1.2.0",
            "_view_name": "LayoutView",
            "align_content": null,
            "align_items": null,
            "align_self": null,
            "border": null,
            "bottom": null,
            "display": null,
            "flex": null,
            "flex_flow": null,
            "grid_area": null,
            "grid_auto_columns": null,
            "grid_auto_flow": null,
            "grid_auto_rows": null,
            "grid_column": null,
            "grid_gap": null,
            "grid_row": null,
            "grid_template_areas": null,
            "grid_template_columns": null,
            "grid_template_rows": null,
            "height": null,
            "justify_content": null,
            "justify_items": null,
            "left": null,
            "margin": null,
            "max_height": null,
            "max_width": null,
            "min_height": null,
            "min_width": null,
            "object_fit": null,
            "object_position": null,
            "order": null,
            "overflow": null,
            "overflow_x": null,
            "overflow_y": null,
            "padding": null,
            "right": null,
            "top": null,
            "visibility": null,
            "width": null
          }
        },
        "4f2cb140a4e84404a39ee2701f28a8ef": {
          "model_module": "@jupyter-widgets/base",
          "model_name": "LayoutModel",
          "model_module_version": "1.2.0",
          "state": {
            "_model_module": "@jupyter-widgets/base",
            "_model_module_version": "1.2.0",
            "_model_name": "LayoutModel",
            "_view_count": null,
            "_view_module": "@jupyter-widgets/base",
            "_view_module_version": "1.2.0",
            "_view_name": "LayoutView",
            "align_content": null,
            "align_items": null,
            "align_self": null,
            "border": null,
            "bottom": null,
            "display": null,
            "flex": null,
            "flex_flow": null,
            "grid_area": null,
            "grid_auto_columns": null,
            "grid_auto_flow": null,
            "grid_auto_rows": null,
            "grid_column": null,
            "grid_gap": null,
            "grid_row": null,
            "grid_template_areas": null,
            "grid_template_columns": null,
            "grid_template_rows": null,
            "height": null,
            "justify_content": null,
            "justify_items": null,
            "left": null,
            "margin": null,
            "max_height": null,
            "max_width": null,
            "min_height": null,
            "min_width": null,
            "object_fit": null,
            "object_position": null,
            "order": null,
            "overflow": null,
            "overflow_x": null,
            "overflow_y": null,
            "padding": null,
            "right": null,
            "top": null,
            "visibility": null,
            "width": null
          }
        },
        "6840dee84244464888799e9fa8a1c94e": {
          "model_module": "@jupyter-widgets/controls",
          "model_name": "DescriptionStyleModel",
          "model_module_version": "1.5.0",
          "state": {
            "_model_module": "@jupyter-widgets/controls",
            "_model_module_version": "1.5.0",
            "_model_name": "DescriptionStyleModel",
            "_view_count": null,
            "_view_module": "@jupyter-widgets/base",
            "_view_module_version": "1.2.0",
            "_view_name": "StyleView",
            "description_width": ""
          }
        },
        "7e2cfc7230f548e295c69baa8d709b76": {
          "model_module": "@jupyter-widgets/base",
          "model_name": "LayoutModel",
          "model_module_version": "1.2.0",
          "state": {
            "_model_module": "@jupyter-widgets/base",
            "_model_module_version": "1.2.0",
            "_model_name": "LayoutModel",
            "_view_count": null,
            "_view_module": "@jupyter-widgets/base",
            "_view_module_version": "1.2.0",
            "_view_name": "LayoutView",
            "align_content": null,
            "align_items": null,
            "align_self": null,
            "border": null,
            "bottom": null,
            "display": null,
            "flex": null,
            "flex_flow": null,
            "grid_area": null,
            "grid_auto_columns": null,
            "grid_auto_flow": null,
            "grid_auto_rows": null,
            "grid_column": null,
            "grid_gap": null,
            "grid_row": null,
            "grid_template_areas": null,
            "grid_template_columns": null,
            "grid_template_rows": null,
            "height": null,
            "justify_content": null,
            "justify_items": null,
            "left": null,
            "margin": null,
            "max_height": null,
            "max_width": null,
            "min_height": null,
            "min_width": null,
            "object_fit": null,
            "object_position": null,
            "order": null,
            "overflow": null,
            "overflow_x": null,
            "overflow_y": null,
            "padding": null,
            "right": null,
            "top": null,
            "visibility": null,
            "width": null
          }
        },
        "8de7b441c63a463e9aede34107ef83ad": {
          "model_module": "@jupyter-widgets/controls",
          "model_name": "ProgressStyleModel",
          "model_module_version": "1.5.0",
          "state": {
            "_model_module": "@jupyter-widgets/controls",
            "_model_module_version": "1.5.0",
            "_model_name": "ProgressStyleModel",
            "_view_count": null,
            "_view_module": "@jupyter-widgets/base",
            "_view_module_version": "1.2.0",
            "_view_name": "StyleView",
            "bar_color": null,
            "description_width": ""
          }
        },
        "d4813485251c48f7ac3e275df4acb84d": {
          "model_module": "@jupyter-widgets/base",
          "model_name": "LayoutModel",
          "model_module_version": "1.2.0",
          "state": {
            "_model_module": "@jupyter-widgets/base",
            "_model_module_version": "1.2.0",
            "_model_name": "LayoutModel",
            "_view_count": null,
            "_view_module": "@jupyter-widgets/base",
            "_view_module_version": "1.2.0",
            "_view_name": "LayoutView",
            "align_content": null,
            "align_items": null,
            "align_self": null,
            "border": null,
            "bottom": null,
            "display": null,
            "flex": null,
            "flex_flow": null,
            "grid_area": null,
            "grid_auto_columns": null,
            "grid_auto_flow": null,
            "grid_auto_rows": null,
            "grid_column": null,
            "grid_gap": null,
            "grid_row": null,
            "grid_template_areas": null,
            "grid_template_columns": null,
            "grid_template_rows": null,
            "height": null,
            "justify_content": null,
            "justify_items": null,
            "left": null,
            "margin": null,
            "max_height": null,
            "max_width": null,
            "min_height": null,
            "min_width": null,
            "object_fit": null,
            "object_position": null,
            "order": null,
            "overflow": null,
            "overflow_x": null,
            "overflow_y": null,
            "padding": null,
            "right": null,
            "top": null,
            "visibility": null,
            "width": null
          }
        },
        "d66098a38e5d4a388408d9d2ef8513f5": {
          "model_module": "@jupyter-widgets/controls",
          "model_name": "DescriptionStyleModel",
          "model_module_version": "1.5.0",
          "state": {
            "_model_module": "@jupyter-widgets/controls",
            "_model_module_version": "1.5.0",
            "_model_name": "DescriptionStyleModel",
            "_view_count": null,
            "_view_module": "@jupyter-widgets/base",
            "_view_module_version": "1.2.0",
            "_view_name": "StyleView",
            "description_width": ""
          }
        }
      }
    }
  },
  "cells": [
    {
      "cell_type": "markdown",
      "metadata": {
        "id": "view-in-github",
        "colab_type": "text"
      },
      "source": [

      ]
    },
    {
      "cell_type": "code",
      "execution_count": 4,
      "metadata": {
        "id": "oNLMeebtgQQc"
      },
      "outputs": [],
      "source": [
        "import zipfile\n",
        "import requests\n",
        "import shutil\n",
        "from pathlib import Path"
      ]
    },
    {
      "cell_type": "code",
      "source": [
        "data_path = Path(\"data/\")\n",
        "image_path = data_path / \"Aircraft Pictures\"\n",
        "\n",
        "if (not image_path.is_dir()):\n",
        "  print(f\"There is no {image_path} directory, creating one...\")\n",
        "  image_path.mkdir(parents=True, exist_ok=True)\n",
        "\n",
        "  \"\"\"\n",
        "  with open(data_path / \"Pics.zip\", \"wb\") as f:\n",
        "    request = requests.get(\"https://github.com/FireBoyAJ24/Airplane-Type-Detection-System/raw/Collecting-Images/data/Pics.zip\")\n",
        "    print(\"Downloading Airplane images files\")\n",
        "    \n",
        "    f.write(request.content)\n",
        "  \"\"\"\n",
        "\n",
        "  with zipfile.ZipFile(data_path / \"Pics.zip\", \"r\") as zip_ref:\n",
        "    print(\"Unzipping Aircraft pictures...\")\n",
        "    zip_ref.extractall(image_path)\n",
        "  \n"
      ],
      "metadata": {
        "colab": {
          "base_uri": "https://localhost:8080/"
        },
        "id": "5EGUWmFUhdzg",
        "outputId": "1d0896fe-850a-4ec3-99b6-d371320c8639"
      },
      "execution_count": 5,
      "outputs": [
        {
          "output_type": "stream",
          "name": "stdout",
          "text": [
            "There is no data/Aircraft Pictures directory, creating one...\n",
            "Unzipping Aircraft pictures...\n"
          ]
        }
      ]
    },
    {
      "cell_type": "code",
      "source": [
        "import os\n",
        "import pathlib\n",
        "import torch\n",
        "\n",
        "from PIL import Image\n",
        "from torch.utils.data import Dataset\n",
        "from torchvision import transforms\n",
        "from typing import Tuple, Dict, List\n",
        "\n",
        "target_directory = \"data/Aircraft Pictures/Aircraft Pictures\"\n",
        "\n",
        "\n",
        "class_found_names = list()\n",
        "\n",
        "for entry in list(os.scandir(target_directory)):\n",
        "  class_found_names.append(entry.name)\n",
        "\n",
        "class_names = sorted(class_found_names)\n",
        "\n",
        "class_to_idx = {cls_name: i for i, cls_name in enumerate(class_names)}\n",
        "\n",
        "class_names, class_to_idx\n",
        "\n"
      ],
      "metadata": {
        "colab": {
          "base_uri": "https://localhost:8080/"
        },
        "id": "z889V87-tgIL",
        "outputId": "3035282f-939e-433d-c506-d55de629a423"
      },
      "execution_count": 6,
      "outputs": [
        {
          "output_type": "execute_result",
          "data": {
            "text/plain": [
              "(['A-10A Thunderbolt II',\n",
              "  'A-37A Dragonfly',\n",
              "  'A-37A DragonflyAC-130A Spectre',\n",
              "  'ADM-20 Quail',\n",
              "  'Airbus 350',\n",
              "  'Airbus A300',\n",
              "  'Airbus A380',\n",
              "  'Airbus Beluga',\n",
              "  'Airbus BelugaXL',\n",
              "  'B-17G Flying Fortress',\n",
              "  'B-1B Lancer',\n",
              "  'B-29B Superfortress',\n",
              "  'B-52D Stratofortress',\n",
              "  'Boeing 777',\n",
              "  'Boeing 787',\n",
              "  'C-119C Flying Boxcar',\n",
              "  'C-123K Provider',\n",
              "  'C-124C Globemaster II',\n",
              "  'C-130E Hercules',\n",
              "  'C-141C Starlifter',\n",
              "  'C-46D Commando',\n",
              "  'C-47B Skytrain',\n",
              "  'C-54G Skymaster',\n",
              "  'C-7A Caribou',\n",
              "  'CH-21B Workhorse',\n",
              "  'EC-121K Constellation',\n",
              "  'EC-135N Stratotanker',\n",
              "  'F-100D Super Sabre',\n",
              "  'F-101F Voodoo',\n",
              "  'F-102A Delta Dagger',\n",
              "  'F-105D Thunderchief',\n",
              "  'F-106A Delta Dart',\n",
              "  'F-111E Aardvark',\n",
              "  'F-15A Eagle',\n",
              "  'F-16A Fighting Falcon',\n",
              "  'F-4D Phantom II',\n",
              "  'F-80C Shooting Star',\n",
              "  'F-84E Thunderjet',\n",
              "  'F-86H Sabre',\n",
              "  'F-89J Scorpion',\n",
              "  'HH-43F Huskie',\n",
              "  'KC-97L Stratofreighter',\n",
              "  'MH-53M Pave Low',\n",
              "  'P-40N Warhawk',\n",
              "  'P-51H Mustang',\n",
              "  'SR-71A Blackbird',\n",
              "  'UC-78B Bamboo Bomber',\n",
              "  'UH-1P Iroquois',\n",
              "  'VC-140B JetStar',\n",
              "  'WB-66D Destroyer'],\n",
              " {'A-10A Thunderbolt II': 0,\n",
              "  'A-37A Dragonfly': 1,\n",
              "  'A-37A DragonflyAC-130A Spectre': 2,\n",
              "  'ADM-20 Quail': 3,\n",
              "  'Airbus 350': 4,\n",
              "  'Airbus A300': 5,\n",
              "  'Airbus A380': 6,\n",
              "  'Airbus Beluga': 7,\n",
              "  'Airbus BelugaXL': 8,\n",
              "  'B-17G Flying Fortress': 9,\n",
              "  'B-1B Lancer': 10,\n",
              "  'B-29B Superfortress': 11,\n",
              "  'B-52D Stratofortress': 12,\n",
              "  'Boeing 777': 13,\n",
              "  'Boeing 787': 14,\n",
              "  'C-119C Flying Boxcar': 15,\n",
              "  'C-123K Provider': 16,\n",
              "  'C-124C Globemaster II': 17,\n",
              "  'C-130E Hercules': 18,\n",
              "  'C-141C Starlifter': 19,\n",
              "  'C-46D Commando': 20,\n",
              "  'C-47B Skytrain': 21,\n",
              "  'C-54G Skymaster': 22,\n",
              "  'C-7A Caribou': 23,\n",
              "  'CH-21B Workhorse': 24,\n",
              "  'EC-121K Constellation': 25,\n",
              "  'EC-135N Stratotanker': 26,\n",
              "  'F-100D Super Sabre': 27,\n",
              "  'F-101F Voodoo': 28,\n",
              "  'F-102A Delta Dagger': 29,\n",
              "  'F-105D Thunderchief': 30,\n",
              "  'F-106A Delta Dart': 31,\n",
              "  'F-111E Aardvark': 32,\n",
              "  'F-15A Eagle': 33,\n",
              "  'F-16A Fighting Falcon': 34,\n",
              "  'F-4D Phantom II': 35,\n",
              "  'F-80C Shooting Star': 36,\n",
              "  'F-84E Thunderjet': 37,\n",
              "  'F-86H Sabre': 38,\n",
              "  'F-89J Scorpion': 39,\n",
              "  'HH-43F Huskie': 40,\n",
              "  'KC-97L Stratofreighter': 41,\n",
              "  'MH-53M Pave Low': 42,\n",
              "  'P-40N Warhawk': 43,\n",
              "  'P-51H Mustang': 44,\n",
              "  'SR-71A Blackbird': 45,\n",
              "  'UC-78B Bamboo Bomber': 46,\n",
              "  'UH-1P Iroquois': 47,\n",
              "  'VC-140B JetStar': 48,\n",
              "  'WB-66D Destroyer': 49})"
            ]
          },
          "metadata": {},
          "execution_count": 6
        }
      ]
    },
    {
      "cell_type": "code",
      "source": [
        "def make_standard_image_dir(class_names, num_images):\n",
        "  # Make a directory called database\n",
        "  data_path = Path(\"data/\")\n",
        "  main_path = data_path / \"database\"\n",
        "  train_path = main_path / \"train\"\n",
        "  test_path = main_path / \"test\"\n",
        "\n",
        "  if (main_path.is_dir()):\n",
        "    print(\"The main directory\", main_path, \"Exists\")\n",
        "  else:\n",
        "    main_path.mkdir(parents=True)\n",
        "\n",
        "    train_path.mkdir(parents=True)\n",
        "    test_path.mkdir(parents=True)\n",
        "  \n",
        "  \"\"\"\n",
        "  1. Scan Aircraft Pictures/Aircraft names\n",
        "  2. Make a new path for each aircraft names in train and test\n",
        "  3. Copy the first 10 images to train and then the last 10 images to test\n",
        "  \"\"\"\n",
        "  source_directory = Path(\"data/Aircraft Pictures/Aircraft Pictures\")\n",
        "  \n",
        "  print(\"Standardising the data....\")\n",
        "\n",
        "  # Copying images into a standard image directory organisation\n",
        "  for p in range(len(class_names)):\n",
        "    class_directory = source_directory / class_names[p]\n",
        "    \n",
        "    for n in range(1, num_images + 1):\n",
        "      image_path = (str(n) + \".jpg\")\n",
        "      image_source_path = class_directory.joinpath(image_path)\n",
        "      des_test_class_directory = test_path / class_names[p]\n",
        "      des_train_class_directory = train_path / class_names[p]\n",
        "      \n",
        "      if (n < int(num_images/2)):\n",
        "        \n",
        "        if (des_train_class_directory.is_dir() != True):         \n",
        "          des_train_class_directory.mkdir(parents=True)\n",
        "        \n",
        "        plane_desc_path = train_path.joinpath(class_names[p])\n",
        "        image_desc_path = plane_desc_path.joinpath(image_path)\n",
        "        \n",
        "        shutil.copy(image_source_path, image_desc_path)\n",
        "      else:\n",
        "\n",
        "        if (des_test_class_directory.is_dir() != True):         \n",
        "          des_test_class_directory.mkdir(parents=True)\n",
        "        \n",
        "        plane_desc_path = test_path.joinpath(class_names[p])\n",
        "        image_desc_path = plane_desc_path.joinpath(image_path)\n",
        "        \n",
        "        shutil.copy(image_source_path, image_desc_path)\n",
        "\n",
        "  "
      ],
      "metadata": {
        "id": "9zJVrFlr9zI2"
      },
      "execution_count": 7,
      "outputs": []
    },
    {
      "cell_type": "code",
      "source": [
        "make_standard_image_dir(class_names, 20)"
      ],
      "metadata": {
        "colab": {
          "base_uri": "https://localhost:8080/"
        },
        "id": "P3wepEf5Eoft",
        "outputId": "670d03d7-724f-448b-91a2-c9c4b9b6c98d"
      },
      "execution_count": 8,
      "outputs": [
        {
          "output_type": "stream",
          "name": "stdout",
          "text": [
            "Standardising the data....\n"
          ]
        }
      ]
    },
    {
      "cell_type": "code",
      "source": [
        "from torch.utils.data import Dataset\n",
        "from torch.utils.data import DataLoader\n",
        "from torchvision import datasets\n",
        "import os\n",
        " \n",
        "main_path = Path(\"data/database\")\n",
        "train_path = main_path / \"train\"\n",
        "test_path = main_path / \"test\""
      ],
      "metadata": {
        "id": "hannpEzjPyf7"
      },
      "execution_count": 9,
      "outputs": []
    },
    {
      "cell_type": "code",
      "source": [
        "data_transform = transforms.Compose([\n",
        "    # Resize the images to 64x64\n",
        "    transforms.Resize(size=(64, 64)),\n",
        "    # Flip the images randomly on the horizontal\n",
        "    transforms.RandomHorizontalFlip(p=0.5), # p = probability of flip, 0.5 = 50% chance\n",
        "    # Turn the image into a torch.Tensor\n",
        "    transforms.ToTensor() # this also converts all pixel values from 0 to 255 to be between 0.0 and 1.0 \n",
        "])"
      ],
      "metadata": {
        "id": "g88FSC-NQ2w7"
      },
      "execution_count": 10,
      "outputs": []
    },
    {
      "cell_type": "code",
      "source": [
        "train_data = datasets.ImageFolder(root=train_path,\n",
        "                                  transform=data_transform,\n",
        "                                  target_transform=None)\n",
        "\n",
        "test_data = datasets.ImageFolder(root=test_path,\n",
        "                                  transform=data_transform,\n",
        "                                  target_transform=None)\n",
        "\n",
        "print(f\"Train data:\\n {train_data}\\nTest data:\\n{test_data}\")"
      ],
      "metadata": {
        "colab": {
          "base_uri": "https://localhost:8080/"
        },
        "id": "K-j9UloyP3eN",
        "outputId": "dfb54d31-a621-4651-925f-4324eba5b98c"
      },
      "execution_count": 11,
      "outputs": [
        {
          "output_type": "stream",
          "name": "stdout",
          "text": [
            "Train data:\n",
            " Dataset ImageFolder\n",
            "    Number of datapoints: 450\n",
            "    Root location: data/database/train\n",
            "    StandardTransform\n",
            "Transform: Compose(\n",
            "               Resize(size=(64, 64), interpolation=bilinear, max_size=None, antialias=None)\n",
            "               RandomHorizontalFlip(p=0.5)\n",
            "               ToTensor()\n",
            "           )\n",
            "Test data:\n",
            "Dataset ImageFolder\n",
            "    Number of datapoints: 550\n",
            "    Root location: data/database/test\n",
            "    StandardTransform\n",
            "Transform: Compose(\n",
            "               Resize(size=(64, 64), interpolation=bilinear, max_size=None, antialias=None)\n",
            "               RandomHorizontalFlip(p=0.5)\n",
            "               ToTensor()\n",
            "           )\n"
          ]
        }
      ]
    },
    {
      "cell_type": "code",
      "source": [
        "BATCH_SIZE = 32\n",
        "NUM_WORKERS = os.cpu_count()\n",
        "train_dataloader = DataLoader(dataset=train_data,\n",
        "                              batch_size=BATCH_SIZE,\n",
        "                              num_workers=NUM_WORKERS,\n",
        "                              shuffle=True)\n",
        "test_dataloader = DataLoader(dataset=test_data,\n",
        "                              batch_size=BATCH_SIZE,\n",
        "                              num_workers=NUM_WORKERS,\n",
        "                              shuffle=True)\n",
        "train_dataloader, test_dataloader"
      ],
      "metadata": {
        "colab": {
          "base_uri": "https://localhost:8080/"
        },
        "id": "Neoa7RULRhbw",
        "outputId": "2f6b235a-e678-4c56-df95-2ebe0d2f1e3e"
      },
      "execution_count": 12,
      "outputs": [
        {
          "output_type": "execute_result",
          "data": {
            "text/plain": [
              "(<torch.utils.data.dataloader.DataLoader at 0x7ff05be63d00>,\n",
              " <torch.utils.data.dataloader.DataLoader at 0x7ff05be63f40>)"
            ]
          },
          "metadata": {},
          "execution_count": 12
        }
      ]
    },
    {
      "cell_type": "markdown",
      "source": [
        "Creating the TinyVGG model class"
      ],
      "metadata": {
        "id": "ADnm6OmvSHzm"
      }
    },
    {
      "cell_type": "code",
      "source": [
        "from torch import device\n",
        "from torch import nn"
      ],
      "metadata": {
        "id": "ffjaF5pBjk4z"
      },
      "execution_count": 13,
      "outputs": []
    },
    {
      "cell_type": "code",
      "source": [
        "class TinyVGG(nn.Module):\n",
        "    \"\"\"\n",
        "    Model architecture copying TinyVGG from: \n",
        "    https://poloclub.github.io/cnn-explainer/\n",
        "    \"\"\"\n",
        "    def __init__(self, input_shape: int, hidden_units: int, output_shape: int) -> None:\n",
        "        super().__init__()\n",
        "        self.conv_block_1 = nn.Sequential(\n",
        "            nn.Conv2d(in_channels=input_shape, \n",
        "                      out_channels=hidden_units, \n",
        "                      kernel_size=3, # how big is the square that's going over the image?\n",
        "                      stride=1, # default\n",
        "                      padding=1), # options = \"valid\" (no padding) or \"same\" (output has same shape as input) or int for specific number \n",
        "            nn.ReLU(),\n",
        "            nn.Conv2d(in_channels=hidden_units, \n",
        "                      out_channels=hidden_units,\n",
        "                      kernel_size=3,\n",
        "                      stride=1,\n",
        "                      padding=1),\n",
        "            nn.ReLU(),\n",
        "            nn.MaxPool2d(kernel_size=2,\n",
        "                         stride=2) # default stride value is same as kernel_size\n",
        "        )\n",
        "        self.conv_block_2 = nn.Sequential(\n",
        "            nn.Conv2d(hidden_units, hidden_units, kernel_size=3, padding=1),\n",
        "            nn.ReLU(),\n",
        "            nn.Conv2d(hidden_units, hidden_units, kernel_size=3, padding=1),\n",
        "            nn.ReLU(),\n",
        "            nn.MaxPool2d(2)\n",
        "        )\n",
        "        self.classifier = nn.Sequential(\n",
        "            nn.Flatten(),\n",
        "            # Where did this in_features shape come from? \n",
        "            # It's because each layer of our network compresses and changes the shape of our inputs data.\n",
        "            nn.Linear(in_features=hidden_units*16*16,\n",
        "                      out_features=output_shape)\n",
        "        )\n",
        "    \n",
        "    def forward(self, x: torch.Tensor):\n",
        "        x = self.conv_block_1(x)\n",
        "        # print(x.shape)\n",
        "        x = self.conv_block_2(x)\n",
        "        # print(x.shape)\n",
        "        x = self.classifier(x)\n",
        "        # print(x.shape)\n",
        "        return x\n",
        "        # return self.classifier(self.conv_block_2(self.conv_block_1(x))) # <- leverage the benefits of operator fusion\n",
        "\n",
        "torch.manual_seed(42)\n",
        "model_0 = TinyVGG(input_shape=3, # number of color channels (3 for RGB) \n",
        "                  hidden_units=10, \n",
        "                  output_shape=len(train_data.classes))\n",
        "model_0"
      ],
      "metadata": {
        "colab": {
          "base_uri": "https://localhost:8080/"
        },
        "id": "uTsh5d7dR4Df",
        "outputId": "6db16987-7118-44bb-fb02-6df0b4469f69"
      },
      "execution_count": 14,
      "outputs": [
        {
          "output_type": "execute_result",
          "data": {
            "text/plain": [
              "TinyVGG(\n",
              "  (conv_block_1): Sequential(\n",
              "    (0): Conv2d(3, 10, kernel_size=(3, 3), stride=(1, 1), padding=(1, 1))\n",
              "    (1): ReLU()\n",
              "    (2): Conv2d(10, 10, kernel_size=(3, 3), stride=(1, 1), padding=(1, 1))\n",
              "    (3): ReLU()\n",
              "    (4): MaxPool2d(kernel_size=2, stride=2, padding=0, dilation=1, ceil_mode=False)\n",
              "  )\n",
              "  (conv_block_2): Sequential(\n",
              "    (0): Conv2d(10, 10, kernel_size=(3, 3), stride=(1, 1), padding=(1, 1))\n",
              "    (1): ReLU()\n",
              "    (2): Conv2d(10, 10, kernel_size=(3, 3), stride=(1, 1), padding=(1, 1))\n",
              "    (3): ReLU()\n",
              "    (4): MaxPool2d(kernel_size=2, stride=2, padding=0, dilation=1, ceil_mode=False)\n",
              "  )\n",
              "  (classifier): Sequential(\n",
              "    (0): Flatten(start_dim=1, end_dim=-1)\n",
              "    (1): Linear(in_features=2560, out_features=50, bias=True)\n",
              "  )\n",
              ")"
            ]
          },
          "metadata": {},
          "execution_count": 14
        }
      ]
    },
    {
      "cell_type": "markdown",
      "source": [
        "## Test a forward pass for a single image"
      ],
      "metadata": {
        "id": "XLr7BU0HktOG"
      }
    },
    {
      "cell_type": "code",
      "source": [
        "image_batch, label_batch = next(iter(train_dataloader))\n",
        "\n",
        "image_single, label_single = image_batch[0].unsqueeze(dim=0), label_batch[0]\n",
        "print(f\"Single image shape: {image_single.shape}\\n\")\n",
        "\n",
        "model_0.eval()\n",
        "with torch.inference_mode():\n",
        "  pred = model_0(image_single)\n",
        "\n",
        "\n",
        "print(f\"Output logits:\\n{pred}\\n\")\n",
        "print(f\"Output prediction probabilities:\\n{torch.softmax(pred, dim=1)}\\n\")\n",
        "print(f\"Output prediction label:\\n{torch.argmax(torch.softmax(pred, dim=1), dim=1)}\\n\")\n",
        "print(f\"Actual label:\\n{label_single}\")\n"
      ],
      "metadata": {
        "colab": {
          "base_uri": "https://localhost:8080/"
        },
        "id": "s2y6GiPGk2N_",
        "outputId": "91619938-7252-4a82-83bb-76456292b3ec"
      },
      "execution_count": 15,
      "outputs": [
        {
          "output_type": "stream",
          "name": "stdout",
          "text": [
            "Single image shape: torch.Size([1, 3, 64, 64])\n",
            "\n",
            "Output logits:\n",
            "tensor([[ 0.0487,  0.0514,  0.0460, -0.0302, -0.0341,  0.0368, -0.0520,  0.0805,\n",
            "          0.0097,  0.0712, -0.0442, -0.0231, -0.0097, -0.0186,  0.0454,  0.0053,\n",
            "          0.0193,  0.0220,  0.0210,  0.0413, -0.0041, -0.0332,  0.0484, -0.0162,\n",
            "          0.0418,  0.0761,  0.0143,  0.0373, -0.0063, -0.0530,  0.0239,  0.0836,\n",
            "          0.0076, -0.0856, -0.0135, -0.0063, -0.0420, -0.0317,  0.0321, -0.0091,\n",
            "          0.0317, -0.0508,  0.0336,  0.0423, -0.0195,  0.0011,  0.0633,  0.0567,\n",
            "          0.0354,  0.0308]])\n",
            "\n",
            "Output prediction probabilities:\n",
            "tensor([[0.0207, 0.0208, 0.0207, 0.0192, 0.0191, 0.0205, 0.0188, 0.0214, 0.0199,\n",
            "         0.0212, 0.0189, 0.0193, 0.0196, 0.0194, 0.0207, 0.0199, 0.0201, 0.0202,\n",
            "         0.0202, 0.0206, 0.0197, 0.0191, 0.0207, 0.0194, 0.0206, 0.0213, 0.0200,\n",
            "         0.0205, 0.0196, 0.0187, 0.0202, 0.0215, 0.0199, 0.0181, 0.0195, 0.0196,\n",
            "         0.0189, 0.0191, 0.0204, 0.0196, 0.0204, 0.0188, 0.0204, 0.0206, 0.0194,\n",
            "         0.0198, 0.0210, 0.0209, 0.0205, 0.0204]])\n",
            "\n",
            "Output prediction label:\n",
            "tensor([31])\n",
            "\n",
            "Actual label:\n",
            "45\n"
          ]
        }
      ]
    },
    {
      "cell_type": "code",
      "source": [
        "try: \n",
        "    import torchinfo\n",
        "except:\n",
        "    !pip install torchinfo\n",
        "    import torchinfo\n",
        "    \n",
        "from torchinfo import summary\n",
        "summary(model_0, input_size=[1, 3, 64, 64])\n"
      ],
      "metadata": {
        "colab": {
          "base_uri": "https://localhost:8080/"
        },
        "id": "qd20UgERnc4E",
        "outputId": "fac038a8-a2d6-499f-d052-6e9feb1759e1"
      },
      "execution_count": 16,
      "outputs": [
        {
          "output_type": "stream",
          "name": "stdout",
          "text": [
            "Looking in indexes: https://pypi.org/simple, https://us-python.pkg.dev/colab-wheels/public/simple/\n",
            "Collecting torchinfo\n",
            "  Downloading torchinfo-1.7.1-py3-none-any.whl (22 kB)\n",
            "Installing collected packages: torchinfo\n",
            "Successfully installed torchinfo-1.7.1\n"
          ]
        },
        {
          "output_type": "execute_result",
          "data": {
            "text/plain": [
              "==========================================================================================\n",
              "Layer (type:depth-idx)                   Output Shape              Param #\n",
              "==========================================================================================\n",
              "TinyVGG                                  [1, 50]                   --\n",
              "├─Sequential: 1-1                        [1, 10, 32, 32]           --\n",
              "│    └─Conv2d: 2-1                       [1, 10, 64, 64]           280\n",
              "│    └─ReLU: 2-2                         [1, 10, 64, 64]           --\n",
              "│    └─Conv2d: 2-3                       [1, 10, 64, 64]           910\n",
              "│    └─ReLU: 2-4                         [1, 10, 64, 64]           --\n",
              "│    └─MaxPool2d: 2-5                    [1, 10, 32, 32]           --\n",
              "├─Sequential: 1-2                        [1, 10, 16, 16]           --\n",
              "│    └─Conv2d: 2-6                       [1, 10, 32, 32]           910\n",
              "│    └─ReLU: 2-7                         [1, 10, 32, 32]           --\n",
              "│    └─Conv2d: 2-8                       [1, 10, 32, 32]           910\n",
              "│    └─ReLU: 2-9                         [1, 10, 32, 32]           --\n",
              "│    └─MaxPool2d: 2-10                   [1, 10, 16, 16]           --\n",
              "├─Sequential: 1-3                        [1, 50]                   --\n",
              "│    └─Flatten: 2-11                     [1, 2560]                 --\n",
              "│    └─Linear: 2-12                      [1, 50]                   128,050\n",
              "==========================================================================================\n",
              "Total params: 131,060\n",
              "Trainable params: 131,060\n",
              "Non-trainable params: 0\n",
              "Total mult-adds (M): 6.87\n",
              "==========================================================================================\n",
              "Input size (MB): 0.05\n",
              "Forward/backward pass size (MB): 0.82\n",
              "Params size (MB): 0.52\n",
              "Estimated Total Size (MB): 1.39\n",
              "=========================================================================================="
            ]
          },
          "metadata": {},
          "execution_count": 16
        }
      ]
    },
    {
      "cell_type": "markdown",
      "source": [
        "## Creating train and test loops"
      ],
      "metadata": {
        "id": "jIjrCbNJnqTt"
      }
    },
    {
      "cell_type": "code",
      "source": [
        "def train_step(model: torch.nn.Module,\n",
        "               dataloader: torch.utils.data.DataLoader,\n",
        "               loss_fn: torch.nn.Module,\n",
        "               optimizer: torch.optim.Optimizer):\n",
        "  # Put model in train mode\n",
        "  model.train()\n",
        "\n",
        "  # Setup train loss and train accuracy values\n",
        "  train_loss, train_acc = 0, 0\n",
        "\n",
        "  # Loop through data loader data batches\n",
        "  for batch, (X, y) in enumerate(dataloader):\n",
        "    y_pred = model(X)\n",
        "\n",
        "    loss = loss_fn(y_pred, y)\n",
        "    train_loss += loss.item()\n",
        "\n",
        "    optimizer.zero_grad()\n",
        "\n",
        "    loss.backward()\n",
        "\n",
        "    optimizer.step()\n",
        "\n",
        "    y_pred_class = torch.argmax(torch.softmax(y_pred, dim=1), dim=1)\n",
        "    train_acc += (y_pred_class == y).sum().item()/len(y_pred)\n",
        "\n",
        "  train_loss = train_loss / len(dataloader)\n",
        "  train_acc = train_acc / len(dataloader)\n",
        "\n",
        "  return train_loss, train_acc\n",
        "\n"
      ],
      "metadata": {
        "id": "lGWgtdPZnuKE"
      },
      "execution_count": 17,
      "outputs": []
    },
    {
      "cell_type": "code",
      "source": [
        "def test_step(model: torch.nn.Module,\n",
        "              dataloader: torch.utils.data.DataLoader,\n",
        "              loss_fn: torch.nn.Module):\n",
        "  model.eval()\n",
        "\n",
        "  test_loss, test_acc = 0, 0\n",
        "\n",
        "  with torch.inference_mode():\n",
        "\n",
        "    for batch, (X, y) in enumerate(dataloader):\n",
        "\n",
        "      test_pred_logits = model(X)\n",
        "\n",
        "      loss = loss_fn(test_pred_logits, y)\n",
        "      test_loss += loss.item()\n",
        "\n",
        "      test_pred_labels = test_pred_logits.argmax(dim=1)\n",
        "      test_acc += ((test_pred_labels == y)).sum().item()/len(test_pred_labels)\n",
        "    \n",
        "    test_loss = test_loss / len(dataloader)\n",
        "    test_acc = test_acc / len(dataloader)\n",
        "    return test_loss, test_acc"
      ],
      "metadata": {
        "id": "eRbS8PZUNAM4"
      },
      "execution_count": 18,
      "outputs": []
    },
    {
      "cell_type": "code",
      "source": [
        "from tqdm.auto import tqdm"
      ],
      "metadata": {
        "id": "zXspv76MOonP"
      },
      "execution_count": 19,
      "outputs": []
    },
    {
      "cell_type": "code",
      "source": [
        "def train(model: torch.nn.Module,\n",
        "          train_dataloader: torch.utils.data.DataLoader,\n",
        "          test_dataloader: torch.utils.data.DataLoader,\n",
        "          optimizer: torch.optim.Optimizer,\n",
        "          loss_fn: torch.nn.Module = nn.CrossEntropyLoss(),\n",
        "          epochs: int = 5):\n",
        "  \n",
        "  results = {\"train_loss\": [],\n",
        "             \"train_acc\": [],\n",
        "             \"test_loss\": [],\n",
        "             \"test_acc\": []\n",
        "  }\n",
        "  \n",
        "  for epoch in tqdm(range(epochs)):\n",
        "    train_loss, train_acc = train_step(model=model,\n",
        "                                       dataloader=train_dataloader,\n",
        "                                       loss_fn=loss_fn,\n",
        "                                       optimizer=optimizer)\n",
        "    \n",
        "    test_loss, test_acc = test_step(model=model,\n",
        "                                    dataloader=test_dataloader,\n",
        "                                    loss_fn=loss_fn)\n",
        "    \n",
        "    print(\n",
        "        f\"Epoch: {epoch+1} | \"\n",
        "        f\"train_loss: {train_loss:.4f} | \"\n",
        "        f\"train_acc: {train_acc:.4f} | \"\n",
        "        f\"test_loss: {test_loss:.4f} | \"\n",
        "        f\"test_acc: {test_acc:.4f}\"\n",
        "    )\n",
        "  \n",
        "    results[\"train_loss\"].append(train_loss)\n",
        "    results[\"train_acc\"].append(train_acc)\n",
        "    results[\"test_loss\"].append(test_loss)\n",
        "    results[\"test_acc\"].append(test_acc)\n",
        "\n",
        "  return results"
      ],
      "metadata": {
        "id": "Ys1dWegXOtMI"
      },
      "execution_count": 20,
      "outputs": []
    },
    {
      "cell_type": "code",
      "source": [
        "torch.manual_seed(42)\n",
        "\n",
        "NUM_EPOCHS = 100\n",
        "\n",
        "model_0 = TinyVGG(input_shape=3,\n",
        "                  hidden_units=10,\n",
        "                  output_shape=len(train_data.classes))\n",
        "\n",
        "loss_fn = nn.CrossEntropyLoss()\n",
        "optimizer = torch.optim.Adam(params=model_0.parameters(), lr=0.001)\n",
        "\n",
        "from timeit import default_timer as timer\n",
        "start_time = timer()\n",
        "\n",
        "model_0_results = train(model=model_0,\n",
        "                        train_dataloader=train_dataloader,\n",
        "                        test_dataloader=test_dataloader,\n",
        "                        optimizer=optimizer,\n",
        "                        loss_fn=loss_fn, \n",
        "                        epochs=NUM_EPOCHS)\n",
        "\n",
        "end_time = timer()\n",
        "print(f\"Total training time: {end_time-start_time:.3f} seconds\")"
      ],
      "metadata": {
        "colab": {
          "base_uri": "https://localhost:8080/",
          "height": 1000,
          "referenced_widgets": [
            "55a4e40a952146e4a67f9ba5990e9b62",
            "04931c2903074bcb92f7939fa583789e",
            "069a9c6d1c434e99b31812a4b9a97170",
            "9c21c216674a4063a5d33fc616f7c89f",
            "da493235e590420ab617fff182dfbafa",
            "4f2cb140a4e84404a39ee2701f28a8ef",
            "6840dee84244464888799e9fa8a1c94e",
            "7e2cfc7230f548e295c69baa8d709b76",
            "8de7b441c63a463e9aede34107ef83ad",
            "d4813485251c48f7ac3e275df4acb84d",
            "d66098a38e5d4a388408d9d2ef8513f5"
          ]
        },
        "id": "v4QnXHV0P_Ua",
        "outputId": "c164798e-9899-4317-b81a-941ce95e0573"
      },
      "execution_count": 44,
      "outputs": [
        {
          "output_type": "display_data",
          "data": {
            "text/plain": [
              "  0%|          | 0/100 [00:00<?, ?it/s]"
            ],
            "application/vnd.jupyter.widget-view+json": {
              "version_major": 2,
              "version_minor": 0,
              "model_id": "55a4e40a952146e4a67f9ba5990e9b62"
            }
          },
          "metadata": {}
        },
        {
          "output_type": "stream",
          "name": "stdout",
          "text": [
            "Epoch: 1 | train_loss: 3.9503 | train_acc: 0.0167 | test_loss: 3.9144 | test_acc: 0.0191\n",
            "Epoch: 2 | train_loss: 3.9171 | train_acc: 0.0229 | test_loss: 3.9124 | test_acc: 0.0191\n",
            "Epoch: 3 | train_loss: 3.9143 | train_acc: 0.0187 | test_loss: 3.9118 | test_acc: 0.0191\n",
            "Epoch: 4 | train_loss: 3.9125 | train_acc: 0.0187 | test_loss: 3.9121 | test_acc: 0.0243\n",
            "Epoch: 5 | train_loss: 3.9118 | train_acc: 0.0187 | test_loss: 3.9120 | test_acc: 0.0243\n",
            "Epoch: 6 | train_loss: 3.9122 | train_acc: 0.0146 | test_loss: 3.9117 | test_acc: 0.0191\n",
            "Epoch: 7 | train_loss: 3.9077 | train_acc: 0.0563 | test_loss: 3.9113 | test_acc: 0.0266\n",
            "Epoch: 8 | train_loss: 3.9103 | train_acc: 0.0187 | test_loss: 3.9114 | test_acc: 0.0191\n",
            "Epoch: 9 | train_loss: 3.9101 | train_acc: 0.0167 | test_loss: 3.9097 | test_acc: 0.0208\n",
            "Epoch: 10 | train_loss: 3.8981 | train_acc: 0.0333 | test_loss: 3.9065 | test_acc: 0.0243\n",
            "Epoch: 11 | train_loss: 3.8754 | train_acc: 0.0354 | test_loss: 3.9222 | test_acc: 0.0370\n",
            "Epoch: 12 | train_loss: 3.8459 | train_acc: 0.0479 | test_loss: 3.9271 | test_acc: 0.0330\n",
            "Epoch: 13 | train_loss: 3.6900 | train_acc: 0.0792 | test_loss: 3.9690 | test_acc: 0.0457\n",
            "Epoch: 14 | train_loss: 3.5778 | train_acc: 0.0792 | test_loss: 4.0411 | test_acc: 0.0683\n",
            "Epoch: 15 | train_loss: 3.4282 | train_acc: 0.1708 | test_loss: 4.2886 | test_acc: 0.0434\n",
            "Epoch: 16 | train_loss: 3.0505 | train_acc: 0.2104 | test_loss: 4.3078 | test_acc: 0.0492\n",
            "Epoch: 17 | train_loss: 2.7601 | train_acc: 0.3021 | test_loss: 4.8033 | test_acc: 0.0486\n",
            "Epoch: 18 | train_loss: 2.3490 | train_acc: 0.4167 | test_loss: 5.2561 | test_acc: 0.0677\n",
            "Epoch: 19 | train_loss: 1.8657 | train_acc: 0.5333 | test_loss: 5.6125 | test_acc: 0.0839\n",
            "Epoch: 20 | train_loss: 1.4658 | train_acc: 0.6021 | test_loss: 6.0381 | test_acc: 0.0556\n",
            "Epoch: 21 | train_loss: 1.2208 | train_acc: 0.6854 | test_loss: 6.5697 | test_acc: 0.0804\n",
            "Epoch: 22 | train_loss: 0.9214 | train_acc: 0.7604 | test_loss: 7.4224 | test_acc: 0.0660\n",
            "Epoch: 23 | train_loss: 0.6969 | train_acc: 0.8187 | test_loss: 7.7512 | test_acc: 0.0590\n",
            "Epoch: 24 | train_loss: 0.5822 | train_acc: 0.8521 | test_loss: 8.7556 | test_acc: 0.0735\n",
            "Epoch: 25 | train_loss: 0.4235 | train_acc: 0.8688 | test_loss: 8.9980 | test_acc: 0.0700\n",
            "Epoch: 26 | train_loss: 0.4118 | train_acc: 0.8875 | test_loss: 10.7511 | test_acc: 0.0631\n",
            "Epoch: 27 | train_loss: 0.4232 | train_acc: 0.8833 | test_loss: 10.8695 | test_acc: 0.0648\n",
            "Epoch: 28 | train_loss: 0.4076 | train_acc: 0.8854 | test_loss: 10.5981 | test_acc: 0.0683\n",
            "Epoch: 29 | train_loss: 0.1953 | train_acc: 0.9542 | test_loss: 10.5811 | test_acc: 0.0625\n",
            "Epoch: 30 | train_loss: 0.1049 | train_acc: 0.9729 | test_loss: 11.1300 | test_acc: 0.0625\n",
            "Epoch: 31 | train_loss: 0.0905 | train_acc: 0.9771 | test_loss: 11.3278 | test_acc: 0.0885\n",
            "Epoch: 32 | train_loss: 0.0542 | train_acc: 0.9896 | test_loss: 12.2291 | test_acc: 0.0718\n",
            "Epoch: 33 | train_loss: 0.0790 | train_acc: 0.9854 | test_loss: 12.6172 | test_acc: 0.0486\n",
            "Epoch: 34 | train_loss: 0.0227 | train_acc: 0.9958 | test_loss: 12.9627 | test_acc: 0.0660\n",
            "Epoch: 35 | train_loss: 0.0399 | train_acc: 0.9958 | test_loss: 12.9144 | test_acc: 0.0712\n",
            "Epoch: 36 | train_loss: 0.0335 | train_acc: 0.9896 | test_loss: 13.4182 | test_acc: 0.0521\n",
            "Epoch: 37 | train_loss: 0.0511 | train_acc: 0.9917 | test_loss: 12.9123 | test_acc: 0.0718\n",
            "Epoch: 38 | train_loss: 0.0199 | train_acc: 0.9958 | test_loss: 13.0595 | test_acc: 0.0590\n",
            "Epoch: 39 | train_loss: 0.0090 | train_acc: 0.9979 | test_loss: 13.6935 | test_acc: 0.0694\n",
            "Epoch: 40 | train_loss: 0.0224 | train_acc: 0.9979 | test_loss: 13.7505 | test_acc: 0.0747\n",
            "Epoch: 41 | train_loss: 0.0174 | train_acc: 0.9979 | test_loss: 13.5062 | test_acc: 0.0625\n",
            "Epoch: 42 | train_loss: 0.0197 | train_acc: 0.9979 | test_loss: 14.3110 | test_acc: 0.0660\n",
            "Epoch: 43 | train_loss: 0.0358 | train_acc: 0.9979 | test_loss: 13.7683 | test_acc: 0.0660\n",
            "Epoch: 44 | train_loss: 0.0076 | train_acc: 0.9979 | test_loss: 13.5906 | test_acc: 0.0642\n",
            "Epoch: 45 | train_loss: 0.0221 | train_acc: 0.9979 | test_loss: 13.6967 | test_acc: 0.0660\n",
            "Epoch: 46 | train_loss: 0.0108 | train_acc: 0.9958 | test_loss: 14.0448 | test_acc: 0.0608\n",
            "Epoch: 47 | train_loss: 0.0268 | train_acc: 0.9958 | test_loss: 13.8654 | test_acc: 0.0660\n",
            "Epoch: 48 | train_loss: 0.0096 | train_acc: 0.9979 | test_loss: 13.7208 | test_acc: 0.0694\n",
            "Epoch: 49 | train_loss: 0.0111 | train_acc: 0.9979 | test_loss: 13.9340 | test_acc: 0.0625\n",
            "Epoch: 50 | train_loss: 0.0030 | train_acc: 1.0000 | test_loss: 14.1564 | test_acc: 0.0642\n",
            "Epoch: 51 | train_loss: 0.0226 | train_acc: 0.9958 | test_loss: 14.2259 | test_acc: 0.0625\n",
            "Epoch: 52 | train_loss: 0.0191 | train_acc: 0.9958 | test_loss: 13.2538 | test_acc: 0.0862\n",
            "Epoch: 53 | train_loss: 0.0238 | train_acc: 0.9958 | test_loss: 13.5901 | test_acc: 0.0677\n",
            "Epoch: 54 | train_loss: 0.0195 | train_acc: 0.9958 | test_loss: 13.5054 | test_acc: 0.0694\n",
            "Epoch: 55 | train_loss: 0.0060 | train_acc: 0.9979 | test_loss: 13.5310 | test_acc: 0.0660\n",
            "Epoch: 56 | train_loss: 0.0027 | train_acc: 1.0000 | test_loss: 13.7738 | test_acc: 0.0770\n",
            "Epoch: 57 | train_loss: 0.0020 | train_acc: 1.0000 | test_loss: 14.1704 | test_acc: 0.0683\n",
            "Epoch: 58 | train_loss: 0.0015 | train_acc: 1.0000 | test_loss: 14.0807 | test_acc: 0.0590\n",
            "Epoch: 59 | train_loss: 0.0310 | train_acc: 0.9958 | test_loss: 13.9329 | test_acc: 0.0625\n",
            "Epoch: 60 | train_loss: 0.0071 | train_acc: 0.9979 | test_loss: 13.6707 | test_acc: 0.0752\n",
            "Epoch: 61 | train_loss: 0.0081 | train_acc: 0.9979 | test_loss: 14.3089 | test_acc: 0.0677\n",
            "Epoch: 62 | train_loss: 0.0128 | train_acc: 0.9979 | test_loss: 14.0099 | test_acc: 0.0770\n",
            "Epoch: 63 | train_loss: 0.0178 | train_acc: 0.9979 | test_loss: 13.9816 | test_acc: 0.0608\n",
            "Epoch: 64 | train_loss: 0.0215 | train_acc: 0.9979 | test_loss: 13.2170 | test_acc: 0.0810\n",
            "Epoch: 65 | train_loss: 0.0084 | train_acc: 0.9979 | test_loss: 14.5369 | test_acc: 0.0642\n",
            "Epoch: 66 | train_loss: 0.0017 | train_acc: 1.0000 | test_loss: 14.2914 | test_acc: 0.0660\n",
            "Epoch: 67 | train_loss: 0.0014 | train_acc: 1.0000 | test_loss: 14.6662 | test_acc: 0.0642\n",
            "Epoch: 68 | train_loss: 0.0213 | train_acc: 0.9979 | test_loss: 13.9302 | test_acc: 0.0712\n",
            "Epoch: 69 | train_loss: 0.0049 | train_acc: 0.9979 | test_loss: 13.9284 | test_acc: 0.0770\n",
            "Epoch: 70 | train_loss: 0.0257 | train_acc: 0.9979 | test_loss: 13.7989 | test_acc: 0.0642\n",
            "Epoch: 71 | train_loss: 0.0115 | train_acc: 0.9958 | test_loss: 14.1979 | test_acc: 0.0694\n",
            "Epoch: 72 | train_loss: 0.0101 | train_acc: 0.9979 | test_loss: 13.8466 | test_acc: 0.0677\n",
            "Epoch: 73 | train_loss: 0.0049 | train_acc: 0.9979 | test_loss: 14.2782 | test_acc: 0.0712\n",
            "Epoch: 74 | train_loss: 0.0017 | train_acc: 1.0000 | test_loss: 14.3460 | test_acc: 0.0694\n",
            "Epoch: 75 | train_loss: 0.0074 | train_acc: 0.9979 | test_loss: 14.7268 | test_acc: 0.0677\n",
            "Epoch: 76 | train_loss: 0.0149 | train_acc: 0.9979 | test_loss: 14.2331 | test_acc: 0.0787\n",
            "Epoch: 77 | train_loss: 0.0156 | train_acc: 0.9958 | test_loss: 14.0256 | test_acc: 0.0677\n",
            "Epoch: 78 | train_loss: 0.0081 | train_acc: 0.9958 | test_loss: 14.1759 | test_acc: 0.0625\n",
            "Epoch: 79 | train_loss: 0.0124 | train_acc: 0.9979 | test_loss: 14.0980 | test_acc: 0.0787\n",
            "Epoch: 80 | train_loss: 0.0039 | train_acc: 0.9979 | test_loss: 14.5077 | test_acc: 0.0764\n",
            "Epoch: 81 | train_loss: 0.0181 | train_acc: 0.9979 | test_loss: 14.2596 | test_acc: 0.0660\n",
            "Epoch: 82 | train_loss: 0.0161 | train_acc: 0.9979 | test_loss: 14.1852 | test_acc: 0.0694\n",
            "Epoch: 83 | train_loss: 0.0080 | train_acc: 0.9979 | test_loss: 13.8445 | test_acc: 0.0735\n",
            "Epoch: 84 | train_loss: 0.0065 | train_acc: 0.9979 | test_loss: 14.0508 | test_acc: 0.0590\n",
            "Epoch: 85 | train_loss: 0.0143 | train_acc: 0.9958 | test_loss: 14.4471 | test_acc: 0.0712\n",
            "Epoch: 86 | train_loss: 0.0067 | train_acc: 0.9979 | test_loss: 13.8592 | test_acc: 0.0608\n",
            "Epoch: 87 | train_loss: 0.0081 | train_acc: 0.9979 | test_loss: 13.9178 | test_acc: 0.0770\n",
            "Epoch: 88 | train_loss: 0.0134 | train_acc: 0.9979 | test_loss: 14.1498 | test_acc: 0.0735\n",
            "Epoch: 89 | train_loss: 0.0017 | train_acc: 1.0000 | test_loss: 13.9382 | test_acc: 0.0822\n",
            "Epoch: 90 | train_loss: 0.0067 | train_acc: 0.9979 | test_loss: 14.3406 | test_acc: 0.0747\n",
            "Epoch: 91 | train_loss: 0.0218 | train_acc: 0.9979 | test_loss: 13.8430 | test_acc: 0.0735\n",
            "Epoch: 92 | train_loss: 0.0072 | train_acc: 0.9958 | test_loss: 13.8403 | test_acc: 0.0608\n",
            "Epoch: 93 | train_loss: 0.0082 | train_acc: 0.9979 | test_loss: 14.0757 | test_acc: 0.0660\n",
            "Epoch: 94 | train_loss: 0.0054 | train_acc: 0.9979 | test_loss: 14.2486 | test_acc: 0.0677\n",
            "Epoch: 95 | train_loss: 0.0121 | train_acc: 0.9979 | test_loss: 14.5209 | test_acc: 0.0625\n",
            "Epoch: 96 | train_loss: 0.0025 | train_acc: 1.0000 | test_loss: 13.9199 | test_acc: 0.0642\n",
            "Epoch: 97 | train_loss: 0.0023 | train_acc: 1.0000 | test_loss: 14.0126 | test_acc: 0.0677\n",
            "Epoch: 98 | train_loss: 0.0140 | train_acc: 0.9979 | test_loss: 14.5774 | test_acc: 0.0660\n",
            "Epoch: 99 | train_loss: 0.0196 | train_acc: 0.9979 | test_loss: 13.8644 | test_acc: 0.0677\n",
            "Epoch: 100 | train_loss: 0.0075 | train_acc: 0.9979 | test_loss: 13.6294 | test_acc: 0.0752\n",
            "Total training time: 347.397 seconds\n"
          ]
        }
      ]
    },
    {
      "cell_type": "code",
      "source": [
        "model_0_results.keys()"
      ],
      "metadata": {
        "colab": {
          "base_uri": "https://localhost:8080/"
        },
        "id": "LTf9uM94jGvf",
        "outputId": "63a13c71-d7b0-41b5-e16e-84df951e5900"
      },
      "execution_count": 45,
      "outputs": [
        {
          "output_type": "execute_result",
          "data": {
            "text/plain": [
              "dict_keys(['train_loss', 'train_acc', 'test_loss', 'test_acc'])"
            ]
          },
          "metadata": {},
          "execution_count": 45
        }
      ]
    },
    {
      "cell_type": "code",
      "source": [
        "import matplotlib.pyplot as plt"
      ],
      "metadata": {
        "id": "yD7Md3CTk2Qy"
      },
      "execution_count": 46,
      "outputs": []
    },
    {
      "cell_type": "code",
      "source": [
        "def plot_loss_curves(results: Dict[str, List[float]]):\n",
        "  loss = results['train_loss']\n",
        "  test_loss = results['test_loss']\n",
        "\n",
        "  accuracy = results['train_acc']\n",
        "  test_accuracy = results['test_acc']\n",
        "\n",
        "  epochs = range(len(results['train_loss']))\n",
        "\n",
        "  plt.figure(figsize=(15, 7))\n",
        "  \n",
        "  plt.subplot(1, 2, 1)\n",
        "  plt.plot(epochs, loss, label='train loss')\n",
        "  plt.plot(epochs, test_loss, label='test loss')\n",
        "  plt.title('Loss')\n",
        "  plt.xlabel('Epochs')\n",
        "  plt.legend()\n",
        "\n",
        "  plt.subplot(1, 2, 2)\n",
        "  plt.plot(epochs, accuracy, label='train accuracy')\n",
        "  plt.plot(epochs, test_accuracy, label='test accuracy')\n",
        "  plt.title('Accuracy')\n",
        "  plt.xlabel('Epochs')\n",
        "  plt.legend();"
      ],
      "metadata": {
        "id": "p7hEz6-Ui9w8"
      },
      "execution_count": 49,
      "outputs": []
    },
    {
      "cell_type": "code",
      "source": [
        "plot_loss_curves(model_0_results)"
      ],
      "metadata": {
        "colab": {
          "base_uri": "https://localhost:8080/",
          "height": 458
        },
        "id": "kZeGiAnTkh2c",
        "outputId": "a2183a22-d7ff-4299-84b5-0982affd900a"
      },
      "execution_count": 50,
      "outputs": [
        {
          "output_type": "display_data",
          "data": {
            "text/plain": [
              "<Figure size 1080x504 with 2 Axes>"
            ],
            "image/png": "[encoded data removed]"
          },
          "metadata": {
            "needs_background": "light"
          }
        }
      ]
    },
    {
      "cell_type": "markdown",
      "source": [
        "The model is both underfitting and over fitting\n",
        "\n",
        "Overfitting\n",
        "1. We can increase the number of images in each of the planes\n",
        "2. We can add a pre trained model paramters and weights which can identify planes from other objects\n",
        "3. We could have a learning rate decay to allow the model to reach a convergence\n",
        "\n",
        "Underfitting\n",
        "1. Add more layers to the model\n",
        "2. Have more epochs\n",
        "3. "
      ],
      "metadata": {
        "id": "hmNbgskCnNmC"
      }
    }
  ]
}